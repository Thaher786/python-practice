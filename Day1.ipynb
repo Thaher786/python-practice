{
 "cells": [
  {
   "cell_type": "markdown",
   "id": "3218ac30",
   "metadata": {},
   "source": [
    "PYTHON MATHS OPERATION"
   ]
  },
  {
   "cell_type": "code",
   "execution_count": 2,
   "id": "74e2e65b",
   "metadata": {},
   "outputs": [
    {
     "data": {
      "text/plain": [
       "11"
      ]
     },
     "execution_count": 2,
     "metadata": {},
     "output_type": "execute_result"
    }
   ],
   "source": [
    "88-77"
   ]
  },
  {
   "cell_type": "code",
   "execution_count": 3,
   "id": "7156e9ae",
   "metadata": {},
   "outputs": [
    {
     "data": {
      "text/plain": [
       "35"
      ]
     },
     "execution_count": 3,
     "metadata": {},
     "output_type": "execute_result"
    }
   ],
   "source": [
    "7*5"
   ]
  },
  {
   "cell_type": "code",
   "execution_count": 4,
   "id": "f7b78fad",
   "metadata": {},
   "outputs": [
    {
     "data": {
      "text/plain": [
       "4.0"
      ]
     },
     "execution_count": 4,
     "metadata": {},
     "output_type": "execute_result"
    }
   ],
   "source": [
    "76/19"
   ]
  },
  {
   "cell_type": "code",
   "execution_count": 5,
   "id": "ef617ecc",
   "metadata": {},
   "outputs": [
    {
     "data": {
      "text/plain": [
       "61.5"
      ]
     },
     "execution_count": 5,
     "metadata": {},
     "output_type": "execute_result"
    }
   ],
   "source": [
    "28*3-24+15/10"
   ]
  },
  {
   "cell_type": "code",
   "execution_count": 6,
   "id": "a60be902",
   "metadata": {},
   "outputs": [
    {
     "data": {
      "text/plain": [
       "-15"
      ]
     },
     "execution_count": 6,
     "metadata": {},
     "output_type": "execute_result"
    }
   ],
   "source": [
    "15-30"
   ]
  },
  {
   "cell_type": "code",
   "execution_count": 8,
   "id": "875200ce",
   "metadata": {},
   "outputs": [
    {
     "data": {
      "text/plain": [
       "3.0"
      ]
     },
     "execution_count": 8,
     "metadata": {},
     "output_type": "execute_result"
    }
   ],
   "source": [
    "45/15"
   ]
  },
  {
   "cell_type": "code",
   "execution_count": 9,
   "id": "66af49b4",
   "metadata": {},
   "outputs": [
    {
     "data": {
      "text/plain": [
       "6699"
      ]
     },
     "execution_count": 9,
     "metadata": {},
     "output_type": "execute_result"
    }
   ],
   "source": [
    "77*87"
   ]
  },
  {
   "cell_type": "code",
   "execution_count": 10,
   "id": "7d24b3f8",
   "metadata": {},
   "outputs": [
    {
     "data": {
      "text/plain": [
       "413.75"
      ]
     },
     "execution_count": 10,
     "metadata": {},
     "output_type": "execute_result"
    }
   ],
   "source": [
    "43*11-61+7/4"
   ]
  }
 ],
 "metadata": {
  "kernelspec": {
   "display_name": "Python 3 (ipykernel)",
   "language": "python",
   "name": "python3"
  },
  "language_info": {
   "codemirror_mode": {
    "name": "ipython",
    "version": 3
   },
   "file_extension": ".py",
   "mimetype": "text/x-python",
   "name": "python",
   "nbconvert_exporter": "python",
   "pygments_lexer": "ipython3",
   "version": "3.9.12"
  }
 },
 "nbformat": 4,
 "nbformat_minor": 5
}
