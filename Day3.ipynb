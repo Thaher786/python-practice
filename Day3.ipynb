{
 "cells": [
  {
   "cell_type": "code",
   "execution_count": 1,
   "id": "6ef80477",
   "metadata": {},
   "outputs": [
    {
     "name": "stdout",
     "output_type": "stream",
     "text": [
      "My number is : 77, and My Name is : thaher\n"
     ]
    }
   ],
   "source": [
    "Num=77\n",
    "Name=\"thaher\"\n",
    "print('My number is : {one}, and My Name is : {Two}' .format (one=Num,Two=Name))"
   ]
  },
  {
   "cell_type": "code",
   "execution_count": 2,
   "id": "a8d1530c",
   "metadata": {},
   "outputs": [
    {
     "name": "stdout",
     "output_type": "stream",
     "text": [
      "My area pincode is : 500001, and My City Name is : Hyderabad\n"
     ]
    }
   ],
   "source": [
    "Pincode=500001\n",
    "City=\"Hyderabad\"\n",
    "print('My area pincode is : {}, and My City Name is : {}' .format (Pincode,City))"
   ]
  },
  {
   "cell_type": "code",
   "execution_count": 3,
   "id": "9d83454d",
   "metadata": {},
   "outputs": [
    {
     "name": "stdout",
     "output_type": "stream",
     "text": [
      "My University is : RAYALASEEMA UNIVERCITY\n"
     ]
    }
   ],
   "source": [
    "Name=\"RAYALASEEMA UNIVERCITY\"\n",
    "print(\"My University is : {}\".format (Name))"
   ]
  },
  {
   "cell_type": "code",
   "execution_count": 4,
   "id": "0818009b",
   "metadata": {},
   "outputs": [
    {
     "name": "stdout",
     "output_type": "stream",
     "text": [
      "My Name is ssn,my rank is 1\n"
     ]
    }
   ],
   "source": [
    "print(\"My Name is {},my rank is {}\".format('ssn',1))"
   ]
  },
  {
   "cell_type": "code",
   "execution_count": 5,
   "id": "23e8d628",
   "metadata": {},
   "outputs": [
    {
     "name": "stdout",
     "output_type": "stream",
     "text": [
      "My Name is thaher,my rank is 1\n"
     ]
    }
   ],
   "source": [
    "print(\"My Name is {},my rank is {}\".format('thaher',1))"
   ]
  },
  {
   "cell_type": "code",
   "execution_count": 6,
   "id": "60feae82",
   "metadata": {},
   "outputs": [
    {
     "name": "stdout",
     "output_type": "stream",
     "text": [
      "['False', 'None', 'True', '__peg_parser__', 'and', 'as', 'assert', 'async', 'await', 'break', 'class', 'continue', 'def', 'del', 'elif', 'else', 'except', 'finally', 'for', 'from', 'global', 'if', 'import', 'in', 'is', 'lambda', 'nonlocal', 'not', 'or', 'pass', 'raise', 'return', 'try', 'while', 'with', 'yield']\n",
      "\n",
      " Total number of Key words : 36\n"
     ]
    }
   ],
   "source": [
    "import keyword\n",
    "print(keyword.kwlist)\n",
    "print(\"\\n Total number of Key words :\",len(keyword.kwlist))"
   ]
  },
  {
   "cell_type": "code",
   "execution_count": 7,
   "id": "c9872656",
   "metadata": {},
   "outputs": [
    {
     "data": {
      "text/plain": [
       "['thaher', 500, 'Hyd']"
      ]
     },
     "execution_count": 7,
     "metadata": {},
     "output_type": "execute_result"
    }
   ],
   "source": [
    "list\n",
    "['thaher',500,\"Hyd\"]"
   ]
  },
  {
   "cell_type": "code",
   "execution_count": 8,
   "id": "b69e7332",
   "metadata": {},
   "outputs": [
    {
     "data": {
      "text/plain": [
       "['Practice', 1, 22, [54, 67]]"
      ]
     },
     "execution_count": 8,
     "metadata": {},
     "output_type": "execute_result"
    }
   ],
   "source": [
    "['Practice',1,22,[54,67]]"
   ]
  },
  {
   "cell_type": "code",
   "execution_count": 9,
   "id": "24dd4747",
   "metadata": {},
   "outputs": [],
   "source": [
    "my_list=['a','b','c','d']\n",
    "# Lists operations\n",
    "my_list.append('f')"
   ]
  },
  {
   "cell_type": "code",
   "execution_count": 10,
   "id": "45f9f638",
   "metadata": {},
   "outputs": [
    {
     "data": {
      "text/plain": [
       "['a', 'b', 'c', 'd', 'f']"
      ]
     },
     "execution_count": 10,
     "metadata": {},
     "output_type": "execute_result"
    }
   ],
   "source": [
    "my_list"
   ]
  },
  {
   "cell_type": "code",
   "execution_count": 11,
   "id": "1d78a705",
   "metadata": {},
   "outputs": [
    {
     "data": {
      "text/plain": [
       "'c'"
      ]
     },
     "execution_count": 11,
     "metadata": {},
     "output_type": "execute_result"
    }
   ],
   "source": [
    "my_list[2]"
   ]
  },
  {
   "cell_type": "code",
   "execution_count": 12,
   "id": "9c2ff475",
   "metadata": {},
   "outputs": [
    {
     "data": {
      "text/plain": [
       "['b', 'c', 'd', 'f']"
      ]
     },
     "execution_count": 12,
     "metadata": {},
     "output_type": "execute_result"
    }
   ],
   "source": [
    "my_list[1:]"
   ]
  },
  {
   "cell_type": "code",
   "execution_count": 13,
   "id": "333b1b27",
   "metadata": {},
   "outputs": [
    {
     "data": {
      "text/plain": [
       "['a']"
      ]
     },
     "execution_count": 13,
     "metadata": {},
     "output_type": "execute_result"
    }
   ],
   "source": [
    "my_list[:1]"
   ]
  },
  {
   "cell_type": "code",
   "execution_count": 14,
   "id": "4cd91d19",
   "metadata": {},
   "outputs": [],
   "source": [
    "test = [1,2,3,[5,6],[1,2,3,4,5]]"
   ]
  },
  {
   "cell_type": "code",
   "execution_count": 15,
   "id": "acd2e555",
   "metadata": {},
   "outputs": [
    {
     "data": {
      "text/plain": [
       "2"
      ]
     },
     "execution_count": 15,
     "metadata": {},
     "output_type": "execute_result"
    }
   ],
   "source": [
    "test[4] [1]"
   ]
  },
  {
   "cell_type": "code",
   "execution_count": 16,
   "id": "f7c120ea",
   "metadata": {},
   "outputs": [
    {
     "data": {
      "text/plain": [
       "3"
      ]
     },
     "execution_count": 16,
     "metadata": {},
     "output_type": "execute_result"
    }
   ],
   "source": [
    "test = [1,2,3,[5,6],[1,2,3,4,5]]\n",
    "test[4] [2]"
   ]
  },
  {
   "cell_type": "code",
   "execution_count": 17,
   "id": "6ecb9213",
   "metadata": {},
   "outputs": [
    {
     "data": {
      "text/plain": [
       "2"
      ]
     },
     "execution_count": 17,
     "metadata": {},
     "output_type": "execute_result"
    }
   ],
   "source": [
    "test [4] [1]"
   ]
  },
  {
   "cell_type": "code",
   "execution_count": 18,
   "id": "73d146b3",
   "metadata": {},
   "outputs": [
    {
     "data": {
      "text/plain": [
       "False"
      ]
     },
     "execution_count": 18,
     "metadata": {},
     "output_type": "execute_result"
    }
   ],
   "source": [
    "1>2"
   ]
  },
  {
   "cell_type": "code",
   "execution_count": 19,
   "id": "bff12cdc",
   "metadata": {},
   "outputs": [
    {
     "data": {
      "text/plain": [
       "True"
      ]
     },
     "execution_count": 19,
     "metadata": {},
     "output_type": "execute_result"
    }
   ],
   "source": [
    "12<55"
   ]
  },
  {
   "cell_type": "code",
   "execution_count": 20,
   "id": "a6589e34",
   "metadata": {},
   "outputs": [
    {
     "data": {
      "text/plain": [
       "True"
      ]
     },
     "execution_count": 20,
     "metadata": {},
     "output_type": "execute_result"
    }
   ],
   "source": [
    "14<32"
   ]
  },
  {
   "cell_type": "code",
   "execution_count": 21,
   "id": "b3ecf08e",
   "metadata": {},
   "outputs": [
    {
     "data": {
      "text/plain": [
       "False"
      ]
     },
     "execution_count": 21,
     "metadata": {},
     "output_type": "execute_result"
    }
   ],
   "source": [
    "55<43"
   ]
  },
  {
   "cell_type": "code",
   "execution_count": 22,
   "id": "a5e5c252",
   "metadata": {},
   "outputs": [
    {
     "data": {
      "text/plain": [
       "False"
      ]
     },
     "execution_count": 22,
     "metadata": {},
     "output_type": "execute_result"
    }
   ],
   "source": [
    "4>=5"
   ]
  },
  {
   "cell_type": "code",
   "execution_count": 23,
   "id": "c7de23dc",
   "metadata": {},
   "outputs": [
    {
     "data": {
      "text/plain": [
       "True"
      ]
     },
     "execution_count": 23,
     "metadata": {},
     "output_type": "execute_result"
    }
   ],
   "source": [
    "99>=67"
   ]
  },
  {
   "cell_type": "code",
   "execution_count": 24,
   "id": "3316bf86",
   "metadata": {},
   "outputs": [
    {
     "data": {
      "text/plain": [
       "True"
      ]
     },
     "execution_count": 24,
     "metadata": {},
     "output_type": "execute_result"
    }
   ],
   "source": [
    "2==2"
   ]
  },
  {
   "cell_type": "code",
   "execution_count": 25,
   "id": "7c35aa3d",
   "metadata": {},
   "outputs": [
    {
     "data": {
      "text/plain": [
       "False"
      ]
     },
     "execution_count": 25,
     "metadata": {},
     "output_type": "execute_result"
    }
   ],
   "source": [
    "'hai'=='bye'"
   ]
  },
  {
   "cell_type": "code",
   "execution_count": 26,
   "id": "c03ef855",
   "metadata": {},
   "outputs": [
    {
     "data": {
      "text/plain": [
       "True"
      ]
     },
     "execution_count": 26,
     "metadata": {},
     "output_type": "execute_result"
    }
   ],
   "source": [
    "'hai'=='hai'"
   ]
  },
  {
   "cell_type": "code",
   "execution_count": 27,
   "id": "02ed29e1",
   "metadata": {},
   "outputs": [
    {
     "data": {
      "text/plain": [
       "{1, 2, 3, 4}"
      ]
     },
     "execution_count": 27,
     "metadata": {},
     "output_type": "execute_result"
    }
   ],
   "source": [
    "{1,1,1,1,1,2,2,2,2,2,2,3,3,3,3,4,4}"
   ]
  },
  {
   "cell_type": "code",
   "execution_count": 28,
   "id": "a45696c5",
   "metadata": {},
   "outputs": [
    {
     "name": "stdout",
     "output_type": "stream",
     "text": [
      "0\n",
      "1\n",
      "2\n",
      "3\n",
      "4\n",
      "5\n",
      "6\n",
      "7\n",
      "8\n",
      "9\n"
     ]
    }
   ],
   "source": [
    "for i in range(10):\n",
    "    print(i)"
   ]
  },
  {
   "cell_type": "code",
   "execution_count": 29,
   "id": "115c8f71",
   "metadata": {},
   "outputs": [
    {
     "name": "stdout",
     "output_type": "stream",
     "text": [
      "0\n",
      "1\n",
      "2\n",
      "3\n",
      "4\n",
      "5\n",
      "6\n",
      "7\n",
      "8\n",
      "9\n",
      "10\n",
      "11\n",
      "12\n",
      "13\n",
      "14\n",
      "15\n",
      "16\n",
      "17\n",
      "18\n",
      "19\n"
     ]
    }
   ],
   "source": [
    "for i in range(20):\n",
    "    print(i)"
   ]
  },
  {
   "cell_type": "code",
   "execution_count": null,
   "id": "d027b607",
   "metadata": {},
   "outputs": [],
   "source": []
  }
 ],
 "metadata": {
  "kernelspec": {
   "display_name": "Python 3 (ipykernel)",
   "language": "python",
   "name": "python3"
  },
  "language_info": {
   "codemirror_mode": {
    "name": "ipython",
    "version": 3
   },
   "file_extension": ".py",
   "mimetype": "text/x-python",
   "name": "python",
   "nbconvert_exporter": "python",
   "pygments_lexer": "ipython3",
   "version": "3.9.12"
  }
 },
 "nbformat": 4,
 "nbformat_minor": 5
}
