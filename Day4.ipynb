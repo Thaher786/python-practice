{
 "cells": [
  {
   "cell_type": "code",
   "execution_count": 1,
   "id": "0fa19e20",
   "metadata": {},
   "outputs": [
    {
     "data": {
      "text/plain": [
       "False"
      ]
     },
     "execution_count": 1,
     "metadata": {},
     "output_type": "execute_result"
    }
   ],
   "source": [
    "2>5 and 7>4"
   ]
  },
  {
   "cell_type": "code",
   "execution_count": 2,
   "id": "946164b5",
   "metadata": {},
   "outputs": [
    {
     "data": {
      "text/plain": [
       "True"
      ]
     },
     "execution_count": 2,
     "metadata": {},
     "output_type": "execute_result"
    }
   ],
   "source": [
    "143<543 and 43>22"
   ]
  },
  {
   "cell_type": "code",
   "execution_count": 3,
   "id": "0c4ef849",
   "metadata": {},
   "outputs": [
    {
     "data": {
      "text/plain": [
       "False"
      ]
     },
     "execution_count": 3,
     "metadata": {},
     "output_type": "execute_result"
    }
   ],
   "source": [
    "123<76 and 77>33"
   ]
  },
  {
   "cell_type": "code",
   "execution_count": 4,
   "id": "528260e8",
   "metadata": {},
   "outputs": [
    {
     "data": {
      "text/plain": [
       "True"
      ]
     },
     "execution_count": 4,
     "metadata": {},
     "output_type": "execute_result"
    }
   ],
   "source": [
    "55>33 and 47<54 "
   ]
  },
  {
   "cell_type": "code",
   "execution_count": 5,
   "id": "0ceeab60",
   "metadata": {},
   "outputs": [
    {
     "data": {
      "text/plain": [
       "True"
      ]
     },
     "execution_count": 5,
     "metadata": {},
     "output_type": "execute_result"
    }
   ],
   "source": [
    "25>12 or 12>5"
   ]
  },
  {
   "cell_type": "code",
   "execution_count": 6,
   "id": "47dd3dd6",
   "metadata": {},
   "outputs": [
    {
     "data": {
      "text/plain": [
       "False"
      ]
     },
     "execution_count": 6,
     "metadata": {},
     "output_type": "execute_result"
    }
   ],
   "source": [
    "25>62 or 34>44"
   ]
  },
  {
   "cell_type": "code",
   "execution_count": 7,
   "id": "39dfa2e3",
   "metadata": {},
   "outputs": [
    {
     "data": {
      "text/plain": [
       "False"
      ]
     },
     "execution_count": 7,
     "metadata": {},
     "output_type": "execute_result"
    }
   ],
   "source": [
    "39>47 or 58>122"
   ]
  },
  {
   "cell_type": "code",
   "execution_count": 8,
   "id": "98356396",
   "metadata": {},
   "outputs": [
    {
     "data": {
      "text/plain": [
       "True"
      ]
     },
     "execution_count": 8,
     "metadata": {},
     "output_type": "execute_result"
    }
   ],
   "source": [
    "11<54 or 55>68"
   ]
  },
  {
   "cell_type": "code",
   "execution_count": 9,
   "id": "c101916d",
   "metadata": {},
   "outputs": [
    {
     "data": {
      "text/plain": [
       "True"
      ]
     },
     "execution_count": 9,
     "metadata": {},
     "output_type": "execute_result"
    }
   ],
   "source": [
    "53>96 or 99<122"
   ]
  },
  {
   "cell_type": "code",
   "execution_count": 10,
   "id": "cd5e38e2",
   "metadata": {},
   "outputs": [
    {
     "data": {
      "text/plain": [
       "True"
      ]
     },
     "execution_count": 10,
     "metadata": {},
     "output_type": "execute_result"
    }
   ],
   "source": [
    "((33>21) and (50<28)) or ((32>18) and (21>20))"
   ]
  },
  {
   "cell_type": "code",
   "execution_count": 11,
   "id": "091864ca",
   "metadata": {},
   "outputs": [
    {
     "data": {
      "text/plain": [
       "False"
      ]
     },
     "execution_count": 11,
     "metadata": {},
     "output_type": "execute_result"
    }
   ],
   "source": [
    "((41>21) and (58<21)) or ((18>21) and (12>10))"
   ]
  },
  {
   "cell_type": "code",
   "execution_count": 12,
   "id": "6a568199",
   "metadata": {},
   "outputs": [
    {
     "data": {
      "text/plain": [
       "True"
      ]
     },
     "execution_count": 12,
     "metadata": {},
     "output_type": "execute_result"
    }
   ],
   "source": [
    "((29<54) and (15>12) or (48<29) or (31>18))"
   ]
  },
  {
   "cell_type": "code",
   "execution_count": 13,
   "id": "88482a40",
   "metadata": {},
   "outputs": [],
   "source": [
    "#List operations "
   ]
  },
  {
   "cell_type": "code",
   "execution_count": 14,
   "id": "e6e73008",
   "metadata": {},
   "outputs": [
    {
     "name": "stdout",
     "output_type": "stream",
     "text": [
      "[7, 14, 26, 39]\n"
     ]
    }
   ],
   "source": [
    "list =[];\n",
    "list.insert(0,7);\n",
    "list.insert(6,14);\n",
    "list.insert(3,26);\n",
    "list.insert(5,39);\n",
    "print(list);"
   ]
  },
  {
   "cell_type": "code",
   "execution_count": 15,
   "id": "691a05cd",
   "metadata": {},
   "outputs": [
    {
     "name": "stdout",
     "output_type": "stream",
     "text": [
      "[7, 77, 14, 26, 39]\n"
     ]
    }
   ],
   "source": [
    "list.insert(1,77);\n",
    "print(list);"
   ]
  },
  {
   "cell_type": "code",
   "execution_count": 16,
   "id": "7b8cdf27",
   "metadata": {},
   "outputs": [
    {
     "name": "stdout",
     "output_type": "stream",
     "text": [
      "[12, 54, 18, 44, 47, 49, 36]\n"
     ]
    }
   ],
   "source": [
    "list2=[12,54,18,44];\n",
    "list3=[47,49,36];\n",
    "print(list2+list3)"
   ]
  },
  {
   "cell_type": "code",
   "execution_count": 17,
   "id": "468cfecb",
   "metadata": {},
   "outputs": [
    {
     "name": "stdout",
     "output_type": "stream",
     "text": [
      "[47, 49, 36]\n"
     ]
    }
   ],
   "source": [
    "list2.extend(list2);\n",
    "print(list3);"
   ]
  },
  {
   "cell_type": "code",
   "execution_count": 18,
   "id": "57ce12a0",
   "metadata": {},
   "outputs": [
    {
     "name": "stdout",
     "output_type": "stream",
     "text": [
      "[17, 58, 55]\n"
     ]
    }
   ],
   "source": [
    "list2=[17,58,4,55];\n",
    "list2.remove(4);\n",
    "print(list2);"
   ]
  },
  {
   "cell_type": "code",
   "execution_count": 19,
   "id": "ea0ce5b8",
   "metadata": {},
   "outputs": [
    {
     "name": "stdout",
     "output_type": "stream",
     "text": [
      "2006304158400\n"
     ]
    }
   ],
   "source": [
    "#MEMORY LOCATION ADDRESS\n",
    "list4=[24,67,52,109]\n",
    "print(id(list4))"
   ]
  },
  {
   "cell_type": "code",
   "execution_count": 20,
   "id": "cd42f350",
   "metadata": {},
   "outputs": [
    {
     "name": "stdout",
     "output_type": "stream",
     "text": [
      "[1, 2, 3, 4, 5]\n"
     ]
    }
   ],
   "source": [
    "# slicing\n",
    "list7=[1,2,3,4,5,6,7,8,9,10]\n",
    "print(list7[0:5]);"
   ]
  },
  {
   "cell_type": "code",
   "execution_count": 21,
   "id": "d7162215",
   "metadata": {},
   "outputs": [],
   "source": [
    "# step size num [start :end: stepsize]"
   ]
  },
  {
   "cell_type": "code",
   "execution_count": 22,
   "id": "32b8a7ab",
   "metadata": {},
   "outputs": [
    {
     "name": "stdout",
     "output_type": "stream",
     "text": [
      "[3, 5, 7]\n"
     ]
    }
   ],
   "source": [
    "print(list7[2:8:2]);"
   ]
  },
  {
   "cell_type": "code",
   "execution_count": 23,
   "id": "b85b5434",
   "metadata": {},
   "outputs": [
    {
     "name": "stdout",
     "output_type": "stream",
     "text": [
      "[]\n"
     ]
    }
   ],
   "source": [
    "print(list7[5:4:3])"
   ]
  },
  {
   "cell_type": "code",
   "execution_count": 24,
   "id": "03146c39",
   "metadata": {},
   "outputs": [
    {
     "name": "stdout",
     "output_type": "stream",
     "text": [
      "[2, 5]\n"
     ]
    }
   ],
   "source": [
    "print(list7[1:6:3])"
   ]
  },
  {
   "cell_type": "code",
   "execution_count": 25,
   "id": "981faf6d",
   "metadata": {},
   "outputs": [
    {
     "name": "stdout",
     "output_type": "stream",
     "text": [
      "[2, 6, 10]\n"
     ]
    }
   ],
   "source": [
    "print(list7[1:10:4])"
   ]
  },
  {
   "cell_type": "code",
   "execution_count": 26,
   "id": "cecec665",
   "metadata": {},
   "outputs": [
    {
     "name": "stdout",
     "output_type": "stream",
     "text": [
      "7\n"
     ]
    }
   ],
   "source": [
    "list=[1,1,1,1,1,1,1,5,3,3,3,5,8,8,8,5,6,2];\n",
    "print(list.count(1));"
   ]
  },
  {
   "cell_type": "code",
   "execution_count": 27,
   "id": "f1996c77",
   "metadata": {},
   "outputs": [
    {
     "name": "stdout",
     "output_type": "stream",
     "text": [
      "[0, 5, 10]\n"
     ]
    }
   ],
   "source": [
    "even=[];\n",
    "for i in range(15):\n",
    "    if (i%5==0):   \n",
    "        even.append(i);\n",
    "print(even);"
   ]
  },
  {
   "cell_type": "code",
   "execution_count": 28,
   "id": "04a3f4b8",
   "metadata": {},
   "outputs": [
    {
     "ename": "SyntaxError",
     "evalue": "invalid syntax (692979387.py, line 4)",
     "output_type": "error",
     "traceback": [
      "\u001b[1;36m  Input \u001b[1;32mIn [28]\u001b[1;36m\u001b[0m\n\u001b[1;33m    even append(i);\u001b[0m\n\u001b[1;37m         ^\u001b[0m\n\u001b[1;31mSyntaxError\u001b[0m\u001b[1;31m:\u001b[0m invalid syntax\n"
     ]
    }
   ],
   "source": [
    "even=[];\n",
    "for i in range(15):\n",
    "    if (i%5==0):   \n",
    "        even append(i);\n",
    "print(even);"
   ]
  },
  {
   "cell_type": "code",
   "execution_count": 29,
   "id": "00f02d66",
   "metadata": {},
   "outputs": [
    {
     "name": "stdout",
     "output_type": "stream",
     "text": [
      "[0, 5, 10, 15, 20, 25, 30, 35, 40]\n"
     ]
    }
   ],
   "source": [
    "even=[];\n",
    "for i in range(43):\n",
    "    if (i%5==0):   \n",
    "        even.append(i);\n",
    "print(even);"
   ]
  },
  {
   "cell_type": "code",
   "execution_count": 30,
   "id": "5ce13b83",
   "metadata": {},
   "outputs": [
    {
     "name": "stdout",
     "output_type": "stream",
     "text": [
      "[(0, 0), (1, 1), (2, 8), (3, 27), (4, 64), (5, 125)]\n"
     ]
    }
   ],
   "source": [
    "sq=[(i,i**3)for  i in range(6)];\n",
    "print(sq);"
   ]
  },
  {
   "cell_type": "code",
   "execution_count": 31,
   "id": "7938d66b",
   "metadata": {},
   "outputs": [
    {
     "ename": "SyntaxError",
     "evalue": "invalid syntax (369747912.py, line 2)",
     "output_type": "error",
     "traceback": [
      "\u001b[1;36m  Input \u001b[1;32mIn [31]\u001b[1;36m\u001b[0m\n\u001b[1;33m    print(sq;\u001b[0m\n\u001b[1;37m            ^\u001b[0m\n\u001b[1;31mSyntaxError\u001b[0m\u001b[1;31m:\u001b[0m invalid syntax\n"
     ]
    }
   ],
   "source": [
    "sq=[(i,i**4)for i in range(8)];\n",
    "print(sq;"
   ]
  },
  {
   "cell_type": "code",
   "execution_count": 32,
   "id": "9c57d4a3",
   "metadata": {},
   "outputs": [
    {
     "name": "stdout",
     "output_type": "stream",
     "text": [
      "[(0, 0), (1, 11), (2, 22), (3, 33), (4, 44), (5, 55)]\n"
     ]
    }
   ],
   "source": [
    "sq=[(i,i*11)for i in range(6)];\n",
    "print(sq);"
   ]
  },
  {
   "cell_type": "code",
   "execution_count": 33,
   "id": "a202e947",
   "metadata": {},
   "outputs": [
    {
     "name": "stdout",
     "output_type": "stream",
     "text": [
      "[(0, 0), (1, 1), (2, 512), (3, 19683)]\n"
     ]
    }
   ],
   "source": [
    "sq=[(i,i**9)for i in range(4)];\n",
    "print(sq);"
   ]
  },
  {
   "cell_type": "code",
   "execution_count": null,
   "id": "54c246da",
   "metadata": {},
   "outputs": [],
   "source": []
  }
 ],
 "metadata": {
  "kernelspec": {
   "display_name": "Python 3 (ipykernel)",
   "language": "python",
   "name": "python3"
  },
  "language_info": {
   "codemirror_mode": {
    "name": "ipython",
    "version": 3
   },
   "file_extension": ".py",
   "mimetype": "text/x-python",
   "name": "python",
   "nbconvert_exporter": "python",
   "pygments_lexer": "ipython3",
   "version": "3.9.12"
  }
 },
 "nbformat": 4,
 "nbformat_minor": 5
}
